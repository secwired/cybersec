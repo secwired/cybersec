{
  "nbformat": 4,
  "nbformat_minor": 0,
  "metadata": {
    "colab": {
      "provenance": [],
      "authorship_tag": "ABX9TyN1pWGyxoUg2ym4nap9g+yz"
    },
    "kernelspec": {
      "name": "python3",
      "display_name": "Python 3"
    },
    "language_info": {
      "name": "python"
    }
  },
  "cells": [
    {
      "cell_type": "code",
      "execution_count": 1,
      "metadata": {
        "id": "uDTY9EW_25Vd"
      },
      "outputs": [],
      "source": [
        "# Lista para armazenar as notas\n",
        "notas = []"
      ]
    },
    {
      "cell_type": "code",
      "source": [
        "# Função para cadastrar notas\n",
        "def cadastrar_notas(nome):\n",
        "  # Limite de notas a serem cadastradas\n",
        "    limite_notas = 5\n",
        "    # Loop para permitir a entrada de notas até o limite\n",
        "    while len(notas) < limite_notas:\n",
        "        # Solicita ao usuário que digite a nota ou 'sair' para encerrar\n",
        "        nota_str = input(\"Digite a nota do aluno (ou 'sair' para sair): \")\n",
        "        # Verifica se o usuário deseja sair do cadastro\n",
        "        if nota_str.lower() == 'sair':\n",
        "            break\n",
        "        try:\n",
        "            # Tenta converter a entrada para um número float\n",
        "            nota = float(nota_str)\n",
        "            # Verifica se a nota está entre 0 e 10\n",
        "            if 0 <= nota <= 10:\n",
        "                # Adiciona a nota à lista de notas\n",
        "                notas.append(nota)\n",
        "            else:\n",
        "                print(\"A nota deve estar entre 0 e 10. Tente novamente.\")\n",
        "        except ValueError:\n",
        "            # Exibe uma mensagem de erro se a conversão falhar\n",
        "            print(\"Por favor, digite um número válido.\")"
      ],
      "metadata": {
        "id": "-2yACbHj2_Fl"
      },
      "execution_count": 2,
      "outputs": []
    },
    {
      "cell_type": "code",
      "source": [
        "# Função para calcular a média\n",
        "def calcular_media():\n",
        "    # Calcula a soma de todas as notas na lista\n",
        "    soma = sum(notas)\n",
        "    # Calcula a média dividindo a soma pelo número de notas\n",
        "    media = soma / len(notas) if notas else 0  # Evita divisão por zero\n",
        "    return media"
      ],
      "metadata": {
        "id": "1fbrqwwp3Bbr"
      },
      "execution_count": 3,
      "outputs": []
    },
    {
      "cell_type": "code",
      "source": [
        "# Função para determinar a situação do aluno\n",
        "def determinar_situacao(media):\n",
        "    # Verifica se a média é maior ou igual a 7\n",
        "    if media >= 7:\n",
        "        return \"Aprovado\"\n",
        "    # Verifica se a média está entre 5 e 7\n",
        "    elif media >= 5:\n",
        "        return \"Recuperação\"\n",
        "    # Se a média for menor que 5, o aluno está reprovado\n",
        "    else:\n",
        "        return \"Reprovado\""
      ],
      "metadata": {
        "id": "VUr-iDbO3E0b"
      },
      "execution_count": 4,
      "outputs": []
    },
    {
      "cell_type": "code",
      "source": [
        "# Função para exibir o relatório final\n",
        "def exibir_relatorio(nome):\n",
        "    # Calcula a média das notas\n",
        "    media = calcular_media()\n",
        "    # Determina a situação do aluno com base na média\n",
        "    situacao = determinar_situacao(media)\n",
        "    # Exibe o relatório final com as notas, média e situação do aluno\n",
        "    print(\"\\nRelatório Final:\")\n",
        "    print(f\"Nome do Aluno: {nome}\")\n",
        "    print(f\"Notas Cadastradas: {notas}\")\n",
        "    print(f\"Média Final: {media:.2f}\")\n",
        "    print(f\"Situação Final: {situacao}\")"
      ],
      "metadata": {
        "id": "G_n2cxbH3Fke"
      },
      "execution_count": 5,
      "outputs": []
    },
    {
      "cell_type": "code",
      "source": [
        "# Menu principal\n",
        "while True:\n",
        "    # Exibe as opções do menu\n",
        "    print(\"\\nMenu:\")\n",
        "    print(\"1. Cadastrar Notas\")\n",
        "    print(\"2. Exibir Relatório Final\")\n",
        "    print(\"3. Sair\")\n",
        "    # Solicita ao usuário que escolha uma opção\n",
        "    opcao = input(\"Escolha uma opção: \")\n",
        "    # Se a opção for 1, solicita o nome do aluno e chama a função para cadastrar notas\n",
        "    if opcao == '1':\n",
        "        nome_aluno = input(\"Digite o nome do aluno: \")\n",
        "        cadastrar_notas(nome_aluno)\n",
        "    # Se a opção for 2, chama a função para exibir o relatório\n",
        "    elif opcao == '2':\n",
        "        if notas:  # Verifica se há notas cadastradas\n",
        "            exibir_relatorio(nome_aluno)\n",
        "        else:\n",
        "            print(\"Nenhuma nota cadastrada. Cadastre notas primeiro.\")\n",
        "    # Se a opção for 3, encerra o loop e sai do programa\n",
        "    elif opcao == '3':\n",
        "        break\n",
        "    # Se a opção for inválida, exibe uma mensagem de erro\n",
        "    else:\n",
        "        print(\"Opção inválida. Tente novamente.\")"
      ],
      "metadata": {
        "colab": {
          "base_uri": "https://localhost:8080/"
        },
        "id": "C3sq2My53Hi6",
        "outputId": "da483de0-fbbd-40d1-83b5-aad31dd53cbb"
      },
      "execution_count": 6,
      "outputs": [
        {
          "name": "stdout",
          "output_type": "stream",
          "text": [
            "\n",
            "Menu:\n",
            "1. Cadastrar Notas\n",
            "2. Exibir Relatório Final\n",
            "3. Sair\n",
            "Escolha uma opção: 1\n",
            "Digite o nome do aluno: Laissa\n",
            "Digite a nota do aluno (ou 'sair' para sair): 5.70\n",
            "Digite a nota do aluno (ou 'sair' para sair): 7.85\n",
            "Digite a nota do aluno (ou 'sair' para sair): 6\n",
            "Digite a nota do aluno (ou 'sair' para sair): 9\n",
            "Digite a nota do aluno (ou 'sair' para sair): 10\n",
            "\n",
            "Menu:\n",
            "1. Cadastrar Notas\n",
            "2. Exibir Relatório Final\n",
            "3. Sair\n",
            "Escolha uma opção: 2\n",
            "\n",
            "Relatório Final:\n",
            "Nome do Aluno: Laissa\n",
            "Notas Cadastradas: [5.7, 7.85, 6.0, 9.0, 10.0]\n",
            "Média Final: 7.71\n",
            "Situação Final: Aprovado\n",
            "\n",
            "Menu:\n",
            "1. Cadastrar Notas\n",
            "2. Exibir Relatório Final\n",
            "3. Sair\n",
            "Escolha uma opção: 3\n"
          ]
        }
      ]
    }
  ]
}